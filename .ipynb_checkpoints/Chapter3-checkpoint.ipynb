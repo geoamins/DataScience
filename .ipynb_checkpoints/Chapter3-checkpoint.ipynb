{
 "cells": [
  {
   "cell_type": "code",
   "execution_count": null,
   "id": "advised-contributor",
   "metadata": {},
   "outputs": [],
   "source": [
    "\"\"\"\n",
    "Q15. Time Calculator\n",
    "Write a program that asks the user to enter a number of seconds and works as follows:\n",
    "• There are 60 seconds in a minute. If the number of seconds entered by the user is greater \n",
    "than or equal to 60, the program should display the number of minutes in that many\n",
    "seconds \n",
    "• There are\t 3,600  seconds in an hour. If the number  of  seconds  entered  by  the  user  is \n",
    "greater than or equal to 3,600, the program should display the number of hours in that\n",
    "many seconds.\n",
    "• There are 86,400  seconds in  a  day. If  the  number\t of\t seconds  entered  by  the  user  is \n",
    "greater than or equal to 86,400, the program should display the number of days in that\n",
    "many seconds.\n",
    "\"\"\""
   ]
  },
  {
   "cell_type": "code",
   "execution_count": 6,
   "id": "contained-contract",
   "metadata": {},
   "outputs": [
    {
     "name": "stdout",
     "output_type": "stream",
     "text": [
      "Time Calculator\n"
     ]
    },
    {
     "name": "stdin",
     "output_type": "stream",
     "text": [
      "Please enter a number of seconds 86400\n"
     ]
    },
    {
     "name": "stdout",
     "output_type": "stream",
     "text": [
      "Days: 1.0\n"
     ]
    }
   ],
   "source": [
    "print('Time Calculator')\n",
    "sec=int(input('Please enter a number of seconds'))\n",
    "if sec>=86400:\n",
    "    days=sec/60/60/24\n",
    "    print(\"Days:\",days)\n",
    "elif sec>=3600:\n",
    "    hr=sec/60/60\n",
    "    print(\"Hours:\",hr)\n",
    "elif sec>=60:\n",
    "    min=sec/60\n",
    "    print(\"Minutes:\",min)\n",
    "else:\n",
    "    print(\"You have entered:\",sec,\" seconds only\")"
   ]
  }
 ],
 "metadata": {
  "kernelspec": {
   "display_name": "Python 3",
   "language": "python",
   "name": "python3"
  },
  "language_info": {
   "codemirror_mode": {
    "name": "ipython",
    "version": 3
   },
   "file_extension": ".py",
   "mimetype": "text/x-python",
   "name": "python",
   "nbconvert_exporter": "python",
   "pygments_lexer": "ipython3",
   "version": "3.7.9"
  }
 },
 "nbformat": 4,
 "nbformat_minor": 5
}
